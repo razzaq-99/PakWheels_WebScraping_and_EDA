{
 "cells": [
  {
   "cell_type": "code",
   "execution_count": 72,
   "id": "5550b86d",
   "metadata": {},
   "outputs": [],
   "source": [
    "import pandas as pd \n"
   ]
  },
  {
   "cell_type": "code",
   "execution_count": 73,
   "id": "3de5399a",
   "metadata": {},
   "outputs": [],
   "source": [
    "df = pd.read_csv('pakwheels_data.csv')"
   ]
  },
  {
   "cell_type": "code",
   "execution_count": 74,
   "id": "68f7103e",
   "metadata": {},
   "outputs": [
    {
     "data": {
      "text/html": [
       "<div>\n",
       "<style scoped>\n",
       "    .dataframe tbody tr th:only-of-type {\n",
       "        vertical-align: middle;\n",
       "    }\n",
       "\n",
       "    .dataframe tbody tr th {\n",
       "        vertical-align: top;\n",
       "    }\n",
       "\n",
       "    .dataframe thead th {\n",
       "        text-align: right;\n",
       "    }\n",
       "</style>\n",
       "<table border=\"1\" class=\"dataframe\">\n",
       "  <thead>\n",
       "    <tr style=\"text-align: right;\">\n",
       "      <th></th>\n",
       "      <th>Car Name</th>\n",
       "      <th>Car Price</th>\n",
       "      <th>City</th>\n",
       "      <th>Model Year</th>\n",
       "      <th>Used KM</th>\n",
       "      <th>Fuel Type</th>\n",
       "      <th>CC</th>\n",
       "      <th>Type of Vehicle</th>\n",
       "    </tr>\n",
       "  </thead>\n",
       "  <tbody>\n",
       "    <tr>\n",
       "      <th>0</th>\n",
       "      <td>KIA Sportage  2021 AWD for Sale</td>\n",
       "      <td>PKR 71lacs</td>\n",
       "      <td>Rawalpindi</td>\n",
       "      <td>2021</td>\n",
       "      <td>47,000 km</td>\n",
       "      <td>Petrol</td>\n",
       "      <td>2000 cc</td>\n",
       "      <td>Automatic</td>\n",
       "    </tr>\n",
       "    <tr>\n",
       "      <th>1</th>\n",
       "      <td>Toyota Raize  2019 Z for Sale</td>\n",
       "      <td>PKR 59.75lacs</td>\n",
       "      <td>Islamabad</td>\n",
       "      <td>2019</td>\n",
       "      <td>34,975 km</td>\n",
       "      <td>Petrol</td>\n",
       "      <td>1000 cc</td>\n",
       "      <td>Automatic</td>\n",
       "    </tr>\n",
       "    <tr>\n",
       "      <th>2</th>\n",
       "      <td>Toyota Belta  2009 X 1.0 for Sale</td>\n",
       "      <td>PKR 24.75lacs</td>\n",
       "      <td>Karachi</td>\n",
       "      <td>2009</td>\n",
       "      <td>83,876 km</td>\n",
       "      <td>Petrol</td>\n",
       "      <td>1000 cc</td>\n",
       "      <td>Automatic</td>\n",
       "    </tr>\n",
       "    <tr>\n",
       "      <th>3</th>\n",
       "      <td>Mitsubishi Ek Wagon  2016 G for Sale</td>\n",
       "      <td>PKR 21.5lacs</td>\n",
       "      <td>Lahore</td>\n",
       "      <td>2016</td>\n",
       "      <td>80,000 km</td>\n",
       "      <td>Petrol</td>\n",
       "      <td>660 cc</td>\n",
       "      <td>Automatic</td>\n",
       "    </tr>\n",
       "    <tr>\n",
       "      <th>4</th>\n",
       "      <td>Toyota Prado  2020 TX L Package 2.7 for Sale</td>\n",
       "      <td>PKR 3.1crore</td>\n",
       "      <td>Karachi</td>\n",
       "      <td>2020</td>\n",
       "      <td>23,000 km</td>\n",
       "      <td>Petrol</td>\n",
       "      <td>2700 cc</td>\n",
       "      <td>Automatic</td>\n",
       "    </tr>\n",
       "  </tbody>\n",
       "</table>\n",
       "</div>"
      ],
      "text/plain": [
       "                                       Car Name      Car Price        City  \\\n",
       "0               KIA Sportage  2021 AWD for Sale     PKR 71lacs  Rawalpindi   \n",
       "1                 Toyota Raize  2019 Z for Sale  PKR 59.75lacs   Islamabad   \n",
       "2             Toyota Belta  2009 X 1.0 for Sale  PKR 24.75lacs     Karachi   \n",
       "3          Mitsubishi Ek Wagon  2016 G for Sale   PKR 21.5lacs      Lahore   \n",
       "4  Toyota Prado  2020 TX L Package 2.7 for Sale   PKR 3.1crore     Karachi   \n",
       "\n",
       "   Model Year    Used KM Fuel Type       CC Type of Vehicle  \n",
       "0        2021  47,000 km    Petrol  2000 cc       Automatic  \n",
       "1        2019  34,975 km    Petrol  1000 cc       Automatic  \n",
       "2        2009  83,876 km    Petrol  1000 cc       Automatic  \n",
       "3        2016  80,000 km    Petrol   660 cc       Automatic  \n",
       "4        2020  23,000 km    Petrol  2700 cc       Automatic  "
      ]
     },
     "execution_count": 74,
     "metadata": {},
     "output_type": "execute_result"
    }
   ],
   "source": [
    "df.head()"
   ]
  },
  {
   "cell_type": "code",
   "execution_count": 76,
   "id": "266e9e0c",
   "metadata": {},
   "outputs": [
    {
     "data": {
      "text/plain": [
       "Type of Vehicle\n",
       "Automatic    225\n",
       "Manual        85\n",
       "Name: count, dtype: int64"
      ]
     },
     "execution_count": 76,
     "metadata": {},
     "output_type": "execute_result"
    }
   ],
   "source": [
    "df['Type of Vehicle'].value_counts()"
   ]
  },
  {
   "cell_type": "code",
   "execution_count": 77,
   "id": "0c7c6f61",
   "metadata": {},
   "outputs": [
    {
     "data": {
      "text/plain": [
       "Fuel Type\n",
       "Petrol      259\n",
       "Hybrid       35\n",
       "Diesel       12\n",
       "CNG           2\n",
       "Electric      2\n",
       "Name: count, dtype: int64"
      ]
     },
     "execution_count": 77,
     "metadata": {},
     "output_type": "execute_result"
    }
   ],
   "source": [
    "df['Fuel Type'].value_counts()"
   ]
  },
  {
   "cell_type": "code",
   "execution_count": 78,
   "id": "c5a5e633",
   "metadata": {},
   "outputs": [
    {
     "data": {
      "text/html": [
       "<div>\n",
       "<style scoped>\n",
       "    .dataframe tbody tr th:only-of-type {\n",
       "        vertical-align: middle;\n",
       "    }\n",
       "\n",
       "    .dataframe tbody tr th {\n",
       "        vertical-align: top;\n",
       "    }\n",
       "\n",
       "    .dataframe thead th {\n",
       "        text-align: right;\n",
       "    }\n",
       "</style>\n",
       "<table border=\"1\" class=\"dataframe\">\n",
       "  <thead>\n",
       "    <tr style=\"text-align: right;\">\n",
       "      <th></th>\n",
       "      <th>Car Name</th>\n",
       "      <th>Car Price</th>\n",
       "      <th>City</th>\n",
       "      <th>Model Year</th>\n",
       "      <th>Used KM</th>\n",
       "      <th>CC</th>\n",
       "      <th>Type of Vehicle_Manual</th>\n",
       "      <th>Fuel Type_Diesel</th>\n",
       "      <th>Fuel Type_Electric</th>\n",
       "      <th>Fuel Type_Hybrid</th>\n",
       "      <th>Fuel Type_Petrol</th>\n",
       "    </tr>\n",
       "  </thead>\n",
       "  <tbody>\n",
       "    <tr>\n",
       "      <th>0</th>\n",
       "      <td>KIA Sportage  2021 AWD for Sale</td>\n",
       "      <td>PKR 71lacs</td>\n",
       "      <td>Rawalpindi</td>\n",
       "      <td>2021</td>\n",
       "      <td>47,000 km</td>\n",
       "      <td>2000 cc</td>\n",
       "      <td>False</td>\n",
       "      <td>False</td>\n",
       "      <td>False</td>\n",
       "      <td>False</td>\n",
       "      <td>True</td>\n",
       "    </tr>\n",
       "    <tr>\n",
       "      <th>1</th>\n",
       "      <td>Toyota Raize  2019 Z for Sale</td>\n",
       "      <td>PKR 59.75lacs</td>\n",
       "      <td>Islamabad</td>\n",
       "      <td>2019</td>\n",
       "      <td>34,975 km</td>\n",
       "      <td>1000 cc</td>\n",
       "      <td>False</td>\n",
       "      <td>False</td>\n",
       "      <td>False</td>\n",
       "      <td>False</td>\n",
       "      <td>True</td>\n",
       "    </tr>\n",
       "    <tr>\n",
       "      <th>2</th>\n",
       "      <td>Toyota Belta  2009 X 1.0 for Sale</td>\n",
       "      <td>PKR 24.75lacs</td>\n",
       "      <td>Karachi</td>\n",
       "      <td>2009</td>\n",
       "      <td>83,876 km</td>\n",
       "      <td>1000 cc</td>\n",
       "      <td>False</td>\n",
       "      <td>False</td>\n",
       "      <td>False</td>\n",
       "      <td>False</td>\n",
       "      <td>True</td>\n",
       "    </tr>\n",
       "  </tbody>\n",
       "</table>\n",
       "</div>"
      ],
      "text/plain": [
       "                            Car Name      Car Price        City  Model Year  \\\n",
       "0    KIA Sportage  2021 AWD for Sale     PKR 71lacs  Rawalpindi        2021   \n",
       "1      Toyota Raize  2019 Z for Sale  PKR 59.75lacs   Islamabad        2019   \n",
       "2  Toyota Belta  2009 X 1.0 for Sale  PKR 24.75lacs     Karachi        2009   \n",
       "\n",
       "     Used KM       CC  Type of Vehicle_Manual  Fuel Type_Diesel  \\\n",
       "0  47,000 km  2000 cc                   False             False   \n",
       "1  34,975 km  1000 cc                   False             False   \n",
       "2  83,876 km  1000 cc                   False             False   \n",
       "\n",
       "   Fuel Type_Electric  Fuel Type_Hybrid  Fuel Type_Petrol  \n",
       "0               False             False              True  \n",
       "1               False             False              True  \n",
       "2               False             False              True  "
      ]
     },
     "execution_count": 78,
     "metadata": {},
     "output_type": "execute_result"
    }
   ],
   "source": [
    "dff = pd.get_dummies(df, columns=['Type of Vehicle', 'Fuel Type'], drop_first=True)\n",
    "\n",
    "dff.head(3)"
   ]
  },
  {
   "cell_type": "code",
   "execution_count": 79,
   "id": "5f80d138",
   "metadata": {},
   "outputs": [],
   "source": [
    "##OHE by using sklearn\n",
    "from sklearn.model_selection import train_test_split\n",
    "\n",
    "X_train, X_test, y_train, y_test = train_test_split(df.iloc[:,3:], df.iloc[:,1:3], test_size=0.2, random_state=0)"
   ]
  },
  {
   "cell_type": "code",
   "execution_count": 80,
   "id": "9854dfa6",
   "metadata": {},
   "outputs": [
    {
     "data": {
      "text/html": [
       "<div>\n",
       "<style scoped>\n",
       "    .dataframe tbody tr th:only-of-type {\n",
       "        vertical-align: middle;\n",
       "    }\n",
       "\n",
       "    .dataframe tbody tr th {\n",
       "        vertical-align: top;\n",
       "    }\n",
       "\n",
       "    .dataframe thead th {\n",
       "        text-align: right;\n",
       "    }\n",
       "</style>\n",
       "<table border=\"1\" class=\"dataframe\">\n",
       "  <thead>\n",
       "    <tr style=\"text-align: right;\">\n",
       "      <th></th>\n",
       "      <th>Model Year</th>\n",
       "      <th>Used KM</th>\n",
       "      <th>Fuel Type</th>\n",
       "      <th>CC</th>\n",
       "      <th>Type of Vehicle</th>\n",
       "    </tr>\n",
       "  </thead>\n",
       "  <tbody>\n",
       "    <tr>\n",
       "      <th>300</th>\n",
       "      <td>2023</td>\n",
       "      <td>17,000 km</td>\n",
       "      <td>Petrol</td>\n",
       "      <td>1500 cc</td>\n",
       "      <td>Automatic</td>\n",
       "    </tr>\n",
       "    <tr>\n",
       "      <th>145</th>\n",
       "      <td>2014</td>\n",
       "      <td>200,000 km</td>\n",
       "      <td>Petrol</td>\n",
       "      <td>1300 cc</td>\n",
       "      <td>Manual</td>\n",
       "    </tr>\n",
       "    <tr>\n",
       "      <th>302</th>\n",
       "      <td>2020</td>\n",
       "      <td>50,979 km</td>\n",
       "      <td>Petrol</td>\n",
       "      <td>2000 cc</td>\n",
       "      <td>Automatic</td>\n",
       "    </tr>\n",
       "    <tr>\n",
       "      <th>222</th>\n",
       "      <td>2021</td>\n",
       "      <td>54,000 km</td>\n",
       "      <td>Petrol</td>\n",
       "      <td>1800 cc</td>\n",
       "      <td>Automatic</td>\n",
       "    </tr>\n",
       "    <tr>\n",
       "      <th>52</th>\n",
       "      <td>2017</td>\n",
       "      <td>75,000 km</td>\n",
       "      <td>Petrol</td>\n",
       "      <td>1500 cc</td>\n",
       "      <td>Automatic</td>\n",
       "    </tr>\n",
       "  </tbody>\n",
       "</table>\n",
       "</div>"
      ],
      "text/plain": [
       "     Model Year     Used KM Fuel Type       CC Type of Vehicle\n",
       "300        2023   17,000 km    Petrol  1500 cc       Automatic\n",
       "145        2014  200,000 km    Petrol  1300 cc          Manual\n",
       "302        2020   50,979 km    Petrol  2000 cc       Automatic\n",
       "222        2021   54,000 km    Petrol  1800 cc       Automatic\n",
       "52         2017   75,000 km    Petrol  1500 cc       Automatic"
      ]
     },
     "execution_count": 80,
     "metadata": {},
     "output_type": "execute_result"
    }
   ],
   "source": [
    "X_test.head()"
   ]
  },
  {
   "cell_type": "code",
   "execution_count": 81,
   "id": "676f7a03",
   "metadata": {},
   "outputs": [],
   "source": [
    "from sklearn.preprocessing import OneHotEncoder"
   ]
  },
  {
   "cell_type": "code",
   "execution_count": 82,
   "id": "cca29db4",
   "metadata": {},
   "outputs": [],
   "source": [
    "ohe = OneHotEncoder(drop='first')"
   ]
  },
  {
   "cell_type": "code",
   "execution_count": 83,
   "id": "cc137bc6",
   "metadata": {},
   "outputs": [],
   "source": [
    "x_train_new = ohe.fit_transform(X_train[['Type of Vehicle', 'Fuel Type']]).toarray()"
   ]
  },
  {
   "cell_type": "code",
   "execution_count": 84,
   "id": "17add14f",
   "metadata": {},
   "outputs": [],
   "source": [
    "X_test_new = ohe.transform(X_test[['Type of Vehicle', 'Fuel Type']]).toarray()"
   ]
  },
  {
   "cell_type": "code",
   "execution_count": 85,
   "id": "c919f37c",
   "metadata": {},
   "outputs": [
    {
     "data": {
      "text/plain": [
       "(248, 8)"
      ]
     },
     "execution_count": 85,
     "metadata": {},
     "output_type": "execute_result"
    }
   ],
   "source": [
    "import numpy as np\n",
    "np.hstack((X_train[['Model Year', 'Used KM','CC']].values, x_train_new)).shape"
   ]
  }
 ],
 "metadata": {
  "kernelspec": {
   "display_name": "codegeex-agent",
   "language": "python",
   "name": "python3"
  },
  "language_info": {
   "codemirror_mode": {
    "name": "ipython",
    "version": 3
   },
   "file_extension": ".py",
   "mimetype": "text/x-python",
   "name": "python",
   "nbconvert_exporter": "python",
   "pygments_lexer": "ipython3",
   "version": "3.11.0"
  }
 },
 "nbformat": 4,
 "nbformat_minor": 5
}
