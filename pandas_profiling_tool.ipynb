{
 "cells": [
  {
   "cell_type": "code",
   "execution_count": 2,
   "id": "860e267f",
   "metadata": {},
   "outputs": [
    {
     "data": {
      "text/html": [
       "<div>\n",
       "<style scoped>\n",
       "    .dataframe tbody tr th:only-of-type {\n",
       "        vertical-align: middle;\n",
       "    }\n",
       "\n",
       "    .dataframe tbody tr th {\n",
       "        vertical-align: top;\n",
       "    }\n",
       "\n",
       "    .dataframe thead th {\n",
       "        text-align: right;\n",
       "    }\n",
       "</style>\n",
       "<table border=\"1\" class=\"dataframe\">\n",
       "  <thead>\n",
       "    <tr style=\"text-align: right;\">\n",
       "      <th></th>\n",
       "      <th>PassengerId</th>\n",
       "      <th>Survived</th>\n",
       "      <th>Pclass</th>\n",
       "      <th>Name</th>\n",
       "      <th>Sex</th>\n",
       "      <th>Age</th>\n",
       "      <th>SibSp</th>\n",
       "      <th>Parch</th>\n",
       "      <th>Ticket</th>\n",
       "      <th>Fare</th>\n",
       "      <th>Cabin</th>\n",
       "      <th>Embarked</th>\n",
       "    </tr>\n",
       "  </thead>\n",
       "  <tbody>\n",
       "    <tr>\n",
       "      <th>0</th>\n",
       "      <td>1</td>\n",
       "      <td>0</td>\n",
       "      <td>3</td>\n",
       "      <td>Braund, Mr. Owen Harris</td>\n",
       "      <td>male</td>\n",
       "      <td>22.0</td>\n",
       "      <td>1</td>\n",
       "      <td>0</td>\n",
       "      <td>A/5 21171</td>\n",
       "      <td>7.2500</td>\n",
       "      <td>NaN</td>\n",
       "      <td>S</td>\n",
       "    </tr>\n",
       "    <tr>\n",
       "      <th>1</th>\n",
       "      <td>2</td>\n",
       "      <td>1</td>\n",
       "      <td>1</td>\n",
       "      <td>Cumings, Mrs. John Bradley (Florence Briggs Th...</td>\n",
       "      <td>female</td>\n",
       "      <td>38.0</td>\n",
       "      <td>1</td>\n",
       "      <td>0</td>\n",
       "      <td>PC 17599</td>\n",
       "      <td>71.2833</td>\n",
       "      <td>C85</td>\n",
       "      <td>C</td>\n",
       "    </tr>\n",
       "    <tr>\n",
       "      <th>2</th>\n",
       "      <td>3</td>\n",
       "      <td>1</td>\n",
       "      <td>3</td>\n",
       "      <td>Heikkinen, Miss. Laina</td>\n",
       "      <td>female</td>\n",
       "      <td>26.0</td>\n",
       "      <td>0</td>\n",
       "      <td>0</td>\n",
       "      <td>STON/O2. 3101282</td>\n",
       "      <td>7.9250</td>\n",
       "      <td>NaN</td>\n",
       "      <td>S</td>\n",
       "    </tr>\n",
       "    <tr>\n",
       "      <th>3</th>\n",
       "      <td>4</td>\n",
       "      <td>1</td>\n",
       "      <td>1</td>\n",
       "      <td>Futrelle, Mrs. Jacques Heath (Lily May Peel)</td>\n",
       "      <td>female</td>\n",
       "      <td>35.0</td>\n",
       "      <td>1</td>\n",
       "      <td>0</td>\n",
       "      <td>113803</td>\n",
       "      <td>53.1000</td>\n",
       "      <td>C123</td>\n",
       "      <td>S</td>\n",
       "    </tr>\n",
       "    <tr>\n",
       "      <th>4</th>\n",
       "      <td>5</td>\n",
       "      <td>0</td>\n",
       "      <td>3</td>\n",
       "      <td>Allen, Mr. William Henry</td>\n",
       "      <td>male</td>\n",
       "      <td>35.0</td>\n",
       "      <td>0</td>\n",
       "      <td>0</td>\n",
       "      <td>373450</td>\n",
       "      <td>8.0500</td>\n",
       "      <td>NaN</td>\n",
       "      <td>S</td>\n",
       "    </tr>\n",
       "  </tbody>\n",
       "</table>\n",
       "</div>"
      ],
      "text/plain": [
       "   PassengerId  Survived  Pclass  \\\n",
       "0            1         0       3   \n",
       "1            2         1       1   \n",
       "2            3         1       3   \n",
       "3            4         1       1   \n",
       "4            5         0       3   \n",
       "\n",
       "                                                Name     Sex   Age  SibSp  \\\n",
       "0                            Braund, Mr. Owen Harris    male  22.0      1   \n",
       "1  Cumings, Mrs. John Bradley (Florence Briggs Th...  female  38.0      1   \n",
       "2                             Heikkinen, Miss. Laina  female  26.0      0   \n",
       "3       Futrelle, Mrs. Jacques Heath (Lily May Peel)  female  35.0      1   \n",
       "4                           Allen, Mr. William Henry    male  35.0      0   \n",
       "\n",
       "   Parch            Ticket     Fare Cabin Embarked  \n",
       "0      0         A/5 21171   7.2500   NaN        S  \n",
       "1      0          PC 17599  71.2833   C85        C  \n",
       "2      0  STON/O2. 3101282   7.9250   NaN        S  \n",
       "3      0            113803  53.1000  C123        S  \n",
       "4      0            373450   8.0500   NaN        S  "
      ]
     },
     "execution_count": 2,
     "metadata": {},
     "output_type": "execute_result"
    }
   ],
   "source": [
    "import pandas as pd \n",
    "\n",
    "df = pd.read_csv('train.csv')\n",
    "\n",
    "df.head()"
   ]
  },
  {
   "cell_type": "code",
   "execution_count": 12,
   "id": "f1efcb26",
   "metadata": {},
   "outputs": [
    {
     "name": "stdout",
     "output_type": "stream",
     "text": [
      "Requirement already satisfied: pandas==2.1.4 in c:\\users\\user\\appdata\\roaming\\python\\python311\\site-packages (2.1.4)\n",
      "Requirement already satisfied: ydata-profiling==4.6.4 in c:\\users\\user\\appdata\\roaming\\python\\python311\\site-packages (4.6.4)\n",
      "Requirement already satisfied: numpy<2,>=1.23.2 in c:\\users\\user\\appdata\\roaming\\python\\python311\\site-packages (from pandas==2.1.4) (1.25.2)\n",
      "Requirement already satisfied: python-dateutil>=2.8.2 in c:\\users\\user\\appdata\\roaming\\python\\python311\\site-packages (from pandas==2.1.4) (2.9.0.post0)\n",
      "Requirement already satisfied: pytz>=2020.1 in c:\\users\\user\\appdata\\roaming\\python\\python311\\site-packages (from pandas==2.1.4) (2025.2)\n",
      "Requirement already satisfied: tzdata>=2022.1 in c:\\users\\user\\appdata\\roaming\\python\\python311\\site-packages (from pandas==2.1.4) (2025.2)\n",
      "Requirement already satisfied: scipy<1.12,>=1.4.1 in c:\\users\\user\\appdata\\roaming\\python\\python311\\site-packages (from ydata-profiling==4.6.4) (1.11.1)\n",
      "Requirement already satisfied: matplotlib<3.9,>=3.2 in c:\\users\\user\\appdata\\roaming\\python\\python311\\site-packages (from ydata-profiling==4.6.4) (3.7.2)\n",
      "Requirement already satisfied: pydantic>=2 in c:\\users\\user\\appdata\\roaming\\python\\python311\\site-packages (from ydata-profiling==4.6.4) (2.11.7)\n",
      "Requirement already satisfied: PyYAML<6.1,>=5.0.0 in c:\\users\\user\\appdata\\roaming\\python\\python311\\site-packages (from ydata-profiling==4.6.4) (6.0.2)\n",
      "Requirement already satisfied: jinja2<3.2,>=2.11.1 in c:\\users\\user\\appdata\\roaming\\python\\python311\\site-packages (from ydata-profiling==4.6.4) (3.1.6)\n",
      "Requirement already satisfied: visions==0.7.5 in c:\\users\\user\\appdata\\roaming\\python\\python311\\site-packages (from visions[type_image_path]==0.7.5->ydata-profiling==4.6.4) (0.7.5)\n",
      "Requirement already satisfied: htmlmin==0.1.12 in c:\\users\\user\\appdata\\roaming\\python\\python311\\site-packages (from ydata-profiling==4.6.4) (0.1.12)\n",
      "Requirement already satisfied: phik<0.13,>=0.11.1 in c:\\users\\user\\appdata\\roaming\\python\\python311\\site-packages (from ydata-profiling==4.6.4) (0.12.5)\n",
      "Requirement already satisfied: requests<3,>=2.24.0 in c:\\users\\user\\appdata\\roaming\\python\\python311\\site-packages (from ydata-profiling==4.6.4) (2.32.5)\n",
      "Requirement already satisfied: tqdm<5,>=4.48.2 in c:\\users\\user\\appdata\\roaming\\python\\python311\\site-packages (from ydata-profiling==4.6.4) (4.67.1)\n",
      "Requirement already satisfied: seaborn<0.13,>=0.10.1 in c:\\users\\user\\appdata\\roaming\\python\\python311\\site-packages (from ydata-profiling==4.6.4) (0.12.2)\n",
      "Requirement already satisfied: multimethod<2,>=1.4 in c:\\users\\user\\appdata\\roaming\\python\\python311\\site-packages (from ydata-profiling==4.6.4) (1.12)\n",
      "Requirement already satisfied: statsmodels<1,>=0.13.2 in c:\\users\\user\\appdata\\roaming\\python\\python311\\site-packages (from ydata-profiling==4.6.4) (0.14.5)\n",
      "Requirement already satisfied: typeguard<5,>=4.1.2 in c:\\users\\user\\appdata\\roaming\\python\\python311\\site-packages (from ydata-profiling==4.6.4) (4.4.4)\n",
      "Requirement already satisfied: imagehash==4.3.1 in c:\\users\\user\\appdata\\roaming\\python\\python311\\site-packages (from ydata-profiling==4.6.4) (4.3.1)\n",
      "Requirement already satisfied: wordcloud>=1.9.1 in c:\\users\\user\\appdata\\roaming\\python\\python311\\site-packages (from ydata-profiling==4.6.4) (1.9.4)\n",
      "Requirement already satisfied: dacite>=1.8 in c:\\users\\user\\appdata\\roaming\\python\\python311\\site-packages (from ydata-profiling==4.6.4) (1.9.2)\n",
      "Requirement already satisfied: numba<0.59.0,>=0.56.0 in c:\\users\\user\\appdata\\roaming\\python\\python311\\site-packages (from ydata-profiling==4.6.4) (0.58.1)\n",
      "Requirement already satisfied: PyWavelets in c:\\users\\user\\appdata\\roaming\\python\\python311\\site-packages (from imagehash==4.3.1->ydata-profiling==4.6.4) (1.9.0)\n",
      "Requirement already satisfied: pillow in c:\\users\\user\\appdata\\roaming\\python\\python311\\site-packages (from imagehash==4.3.1->ydata-profiling==4.6.4) (10.4.0)\n",
      "Requirement already satisfied: attrs>=19.3.0 in c:\\users\\user\\appdata\\roaming\\python\\python311\\site-packages (from visions==0.7.5->visions[type_image_path]==0.7.5->ydata-profiling==4.6.4) (25.3.0)\n",
      "Requirement already satisfied: networkx>=2.4 in c:\\users\\user\\appdata\\roaming\\python\\python311\\site-packages (from visions==0.7.5->visions[type_image_path]==0.7.5->ydata-profiling==4.6.4) (3.5)\n",
      "Requirement already satisfied: tangled-up-in-unicode>=0.0.4 in c:\\users\\user\\appdata\\roaming\\python\\python311\\site-packages (from visions==0.7.5->visions[type_image_path]==0.7.5->ydata-profiling==4.6.4) (0.2.0)\n",
      "Requirement already satisfied: MarkupSafe>=2.0 in c:\\users\\user\\appdata\\roaming\\python\\python311\\site-packages (from jinja2<3.2,>=2.11.1->ydata-profiling==4.6.4) (2.1.5)\n",
      "Requirement already satisfied: contourpy>=1.0.1 in c:\\users\\user\\appdata\\roaming\\python\\python311\\site-packages (from matplotlib<3.9,>=3.2->ydata-profiling==4.6.4) (1.3.2)\n",
      "Requirement already satisfied: cycler>=0.10 in c:\\users\\user\\appdata\\roaming\\python\\python311\\site-packages (from matplotlib<3.9,>=3.2->ydata-profiling==4.6.4) (0.12.1)\n",
      "Requirement already satisfied: fonttools>=4.22.0 in c:\\users\\user\\appdata\\roaming\\python\\python311\\site-packages (from matplotlib<3.9,>=3.2->ydata-profiling==4.6.4) (4.59.0)\n",
      "Requirement already satisfied: kiwisolver>=1.0.1 in c:\\users\\user\\appdata\\roaming\\python\\python311\\site-packages (from matplotlib<3.9,>=3.2->ydata-profiling==4.6.4) (1.4.8)\n",
      "Requirement already satisfied: packaging>=20.0 in c:\\users\\user\\appdata\\roaming\\python\\python311\\site-packages (from matplotlib<3.9,>=3.2->ydata-profiling==4.6.4) (23.2)\n",
      "Requirement already satisfied: pyparsing<3.1,>=2.3.1 in c:\\users\\user\\appdata\\roaming\\python\\python311\\site-packages (from matplotlib<3.9,>=3.2->ydata-profiling==4.6.4) (3.0.9)\n",
      "Requirement already satisfied: llvmlite<0.42,>=0.41.0dev0 in c:\\users\\user\\appdata\\roaming\\python\\python311\\site-packages (from numba<0.59.0,>=0.56.0->ydata-profiling==4.6.4) (0.41.1)\n",
      "Requirement already satisfied: joblib>=0.14.1 in c:\\users\\user\\appdata\\roaming\\python\\python311\\site-packages (from phik<0.13,>=0.11.1->ydata-profiling==4.6.4) (1.1.1)\n",
      "Requirement already satisfied: charset_normalizer<4,>=2 in c:\\users\\user\\appdata\\roaming\\python\\python311\\site-packages (from requests<3,>=2.24.0->ydata-profiling==4.6.4) (3.4.2)\n",
      "Requirement already satisfied: idna<4,>=2.5 in c:\\users\\user\\appdata\\roaming\\python\\python311\\site-packages (from requests<3,>=2.24.0->ydata-profiling==4.6.4) (3.10)\n",
      "Requirement already satisfied: urllib3<3,>=1.21.1 in c:\\users\\user\\appdata\\roaming\\python\\python311\\site-packages (from requests<3,>=2.24.0->ydata-profiling==4.6.4) (2.5.0)\n",
      "Requirement already satisfied: certifi>=2017.4.17 in c:\\users\\user\\appdata\\roaming\\python\\python311\\site-packages (from requests<3,>=2.24.0->ydata-profiling==4.6.4) (2025.7.14)\n",
      "Requirement already satisfied: patsy>=0.5.6 in c:\\users\\user\\appdata\\roaming\\python\\python311\\site-packages (from statsmodels<1,>=0.13.2->ydata-profiling==4.6.4) (1.0.1)\n",
      "Requirement already satisfied: colorama in c:\\users\\user\\appdata\\roaming\\python\\python311\\site-packages (from tqdm<5,>=4.48.2->ydata-profiling==4.6.4) (0.4.6)\n",
      "Requirement already satisfied: typing_extensions>=4.14.0 in c:\\users\\user\\appdata\\roaming\\python\\python311\\site-packages (from typeguard<5,>=4.1.2->ydata-profiling==4.6.4) (4.14.1)\n",
      "Requirement already satisfied: annotated-types>=0.6.0 in c:\\users\\user\\appdata\\roaming\\python\\python311\\site-packages (from pydantic>=2->ydata-profiling==4.6.4) (0.7.0)\n",
      "Requirement already satisfied: pydantic-core==2.33.2 in c:\\users\\user\\appdata\\roaming\\python\\python311\\site-packages (from pydantic>=2->ydata-profiling==4.6.4) (2.33.2)\n",
      "Requirement already satisfied: typing-inspection>=0.4.0 in c:\\users\\user\\appdata\\roaming\\python\\python311\\site-packages (from pydantic>=2->ydata-profiling==4.6.4) (0.4.1)\n",
      "Requirement already satisfied: six>=1.5 in c:\\users\\user\\appdata\\roaming\\python\\python311\\site-packages (from python-dateutil>=2.8.2->pandas==2.1.4) (1.17.0)\n",
      "Note: you may need to restart the kernel to use updated packages.\n"
     ]
    }
   ],
   "source": [
    "pip install pandas==2.1.4 ydata-profiling==4.6.4\n"
   ]
  },
  {
   "cell_type": "code",
   "execution_count": 3,
   "id": "ac3d5f95",
   "metadata": {},
   "outputs": [
    {
     "name": "stderr",
     "output_type": "stream",
     "text": [
      "Summarize dataset:   0%|          | 0/5 [00:00<?, ?it/s]"
     ]
    },
    {
     "name": "stderr",
     "output_type": "stream",
     "text": [
      "Summarize dataset:  74%|███████▎  | 14/19 [00:01<00:00, 17.91it/s, Calculate auto correlation]  C:\\Users\\USER\\AppData\\Roaming\\Python\\Python311\\site-packages\\ydata_profiling\\model\\correlations.py:66: UserWarning: There was an attempt to calculate the auto correlation, but this failed.\n",
      "To hide this warning, disable the calculation\n",
      "(using `df.profile_report(correlations={\"auto\": {\"calculate\": False}})`\n",
      "If this is problematic for your use case, please report this as an issue:\n",
      "https://github.com/ydataai/ydata-profiling/issues\n",
      "(include the error message: 'Function <code object pandas_auto_compute at 0x0000019FEA0640C0, file \"C:\\Users\\USER\\AppData\\Roaming\\Python\\Python311\\site-packages\\ydata_profiling\\model\\pandas\\correlations_pandas.py\", line 164>')\n",
      "  warnings.warn(\n",
      "Summarize dataset: 100%|██████████| 47/47 [00:10<00:00,  4.56it/s, Completed]                       \n",
      "Generate report structure: 100%|██████████| 1/1 [00:11<00:00, 11.99s/it]\n",
      "Render HTML: 100%|██████████| 1/1 [00:03<00:00,  3.73s/it]\n",
      "Export report to file: 100%|██████████| 1/1 [00:00<00:00, 64.01it/s]\n"
     ]
    }
   ],
   "source": [
    "from ydata_profiling import ProfileReport\n",
    "\n",
    "prof = ProfileReport(df)\n",
    "prof.to_file(output_file='output.html')"
   ]
  },
  {
   "cell_type": "code",
   "execution_count": 7,
   "id": "9660caa9",
   "metadata": {},
   "outputs": [],
   "source": [
    "import pandas as pd \n",
    "\n",
    "file = pd.read_csv('pakwheels_data.csv')\n"
   ]
  },
  {
   "cell_type": "code",
   "execution_count": 8,
   "id": "b053afef",
   "metadata": {},
   "outputs": [
    {
     "name": "stderr",
     "output_type": "stream",
     "text": [
      "Export report to file: 100%|██████████| 1/1 [00:00<00:00, 35.83it/s]\n"
     ]
    }
   ],
   "source": [
    "from ydata_profiling import ProfileReport\n",
    "\n",
    "report = ProfileReport(file)\n",
    "\n",
    "prof.to_file(output_file='PakWheelsReport.html')"
   ]
  },
  {
   "cell_type": "code",
   "execution_count": 9,
   "id": "4975a281",
   "metadata": {},
   "outputs": [],
   "source": [
    "import pandas as pd \n",
    "\n",
    "dff = pd.read_csv('placement.csv')"
   ]
  },
  {
   "cell_type": "code",
   "execution_count": 10,
   "id": "914ffea9",
   "metadata": {},
   "outputs": [
    {
     "name": "stderr",
     "output_type": "stream",
     "text": [
      "Summarize dataset:  67%|██████▋   | 10/15 [00:00<00:00, 12.47it/s, Calculate auto correlation]      C:\\Users\\USER\\AppData\\Roaming\\Python\\Python311\\site-packages\\ydata_profiling\\model\\correlations.py:66: UserWarning: There was an attempt to calculate the auto correlation, but this failed.\n",
      "To hide this warning, disable the calculation\n",
      "(using `df.profile_report(correlations={\"auto\": {\"calculate\": False}})`\n",
      "If this is problematic for your use case, please report this as an issue:\n",
      "https://github.com/ydataai/ydata-profiling/issues\n",
      "(include the error message: 'could not convert string to float: '2000 cc'')\n",
      "  warnings.warn(\n",
      "Summarize dataset: 100%|██████████| 18/18 [00:02<00:00,  8.73it/s, Completed]                     \n",
      "Generate report structure: 100%|██████████| 1/1 [00:07<00:00,  7.40s/it]\n",
      "Render HTML: 100%|██████████| 1/1 [00:00<00:00,  1.35it/s]\n",
      "Export report to file: 100%|██████████| 1/1 [00:00<00:00, 119.04it/s]\n"
     ]
    }
   ],
   "source": [
    "from ydata_profiling import ProfileReport\n",
    "\n",
    "prof = ProfileReport(file)\n",
    "\n",
    "prof.to_file(output_file='output.html')"
   ]
  }
 ],
 "metadata": {
  "kernelspec": {
   "display_name": "codegeex-agent",
   "language": "python",
   "name": "python3"
  },
  "language_info": {
   "codemirror_mode": {
    "name": "ipython",
    "version": 3
   },
   "file_extension": ".py",
   "mimetype": "text/x-python",
   "name": "python",
   "nbconvert_exporter": "python",
   "pygments_lexer": "ipython3",
   "version": "3.11.0"
  }
 },
 "nbformat": 4,
 "nbformat_minor": 5
}
