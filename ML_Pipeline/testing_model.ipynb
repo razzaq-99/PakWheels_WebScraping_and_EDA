{
 "cells": [
  {
   "cell_type": "code",
   "execution_count": 1,
   "id": "c5c54f35",
   "metadata": {},
   "outputs": [],
   "source": [
    "import pickle\n",
    "import numpy as np"
   ]
  },
  {
   "cell_type": "code",
   "execution_count": 2,
   "id": "442e1daa",
   "metadata": {},
   "outputs": [],
   "source": [
    "ohe_sex = pickle.load(open('models/ohe_sex.pkl', 'rb'))\n",
    "ohe_embarked = pickle.load(open('models/ohe_embarked.pkl', 'rb'))\n",
    "clf = pickle.load(open('models/clf.pkl', 'rb'))"
   ]
  },
  {
   "cell_type": "code",
   "execution_count": 3,
   "id": "bfe9829b",
   "metadata": {},
   "outputs": [],
   "source": [
    "test_input = np.array([2, 'male', 31.3, 0, 0, 10.5, 'S'],dtype=object).reshape(1, 7)"
   ]
  },
  {
   "cell_type": "code",
   "execution_count": 4,
   "id": "e89e9788",
   "metadata": {},
   "outputs": [
    {
     "data": {
      "text/plain": [
       "array([[2, 'male', 31.3, 0, 0, 10.5, 'S']], dtype=object)"
      ]
     },
     "execution_count": 4,
     "metadata": {},
     "output_type": "execute_result"
    }
   ],
   "source": [
    "test_input"
   ]
  },
  {
   "cell_type": "code",
   "execution_count": 5,
   "id": "8d8b2373",
   "metadata": {},
   "outputs": [
    {
     "name": "stderr",
     "output_type": "stream",
     "text": [
      "C:\\Users\\USER\\AppData\\Roaming\\Python\\Python311\\site-packages\\sklearn\\utils\\validation.py:2749: UserWarning: X does not have valid feature names, but OneHotEncoder was fitted with feature names\n",
      "  warnings.warn(\n"
     ]
    }
   ],
   "source": [
    "test_input_sex = ohe_sex.transform(test_input[:, 1].reshape(1, 1))"
   ]
  },
  {
   "cell_type": "code",
   "execution_count": 6,
   "id": "b1425b25",
   "metadata": {},
   "outputs": [
    {
     "data": {
      "text/plain": [
       "array([[0., 1.]])"
      ]
     },
     "execution_count": 6,
     "metadata": {},
     "output_type": "execute_result"
    }
   ],
   "source": [
    "test_input_sex"
   ]
  },
  {
   "cell_type": "code",
   "execution_count": 7,
   "id": "61ad2ee6",
   "metadata": {},
   "outputs": [],
   "source": [
    "test_input_embraked = ohe_embarked.transform(test_input[:, -1].reshape(1, 1))"
   ]
  },
  {
   "cell_type": "code",
   "execution_count": 8,
   "id": "196babf5",
   "metadata": {},
   "outputs": [
    {
     "data": {
      "text/plain": [
       "array([[0., 0., 1.]])"
      ]
     },
     "execution_count": 8,
     "metadata": {},
     "output_type": "execute_result"
    }
   ],
   "source": [
    "test_input_embraked"
   ]
  },
  {
   "cell_type": "code",
   "execution_count": 9,
   "id": "12d6fd0b",
   "metadata": {},
   "outputs": [],
   "source": [
    "test_input_age = test_input[:, 2].reshape(1, 1)"
   ]
  },
  {
   "cell_type": "code",
   "execution_count": 10,
   "id": "00c6357f",
   "metadata": {},
   "outputs": [],
   "source": [
    "test_input_transformed = np.concatenate((test_input[:,[0,3,4,5]],test_input_age,test_input_sex,test_input_embraked),axis=1)"
   ]
  },
  {
   "cell_type": "code",
   "execution_count": 11,
   "id": "e02a644d",
   "metadata": {},
   "outputs": [
    {
     "data": {
      "text/plain": [
       "(1, 10)"
      ]
     },
     "execution_count": 11,
     "metadata": {},
     "output_type": "execute_result"
    }
   ],
   "source": [
    "test_input_transformed.shape"
   ]
  },
  {
   "cell_type": "code",
   "execution_count": 12,
   "id": "1034651c",
   "metadata": {},
   "outputs": [
    {
     "data": {
      "text/plain": [
       "array([1], dtype=int64)"
      ]
     },
     "execution_count": 12,
     "metadata": {},
     "output_type": "execute_result"
    }
   ],
   "source": [
    "clf.predict(test_input_transformed)"
   ]
  }
 ],
 "metadata": {
  "kernelspec": {
   "display_name": "codegeex-agent",
   "language": "python",
   "name": "python3"
  },
  "language_info": {
   "codemirror_mode": {
    "name": "ipython",
    "version": 3
   },
   "file_extension": ".py",
   "mimetype": "text/x-python",
   "name": "python",
   "nbconvert_exporter": "python",
   "pygments_lexer": "ipython3",
   "version": "3.11.0"
  }
 },
 "nbformat": 4,
 "nbformat_minor": 5
}
